{
 "cells": [
  {
   "cell_type": "markdown",
   "metadata": {
    "id": "TVfJmYaemoLf"
   },
   "source": [
    "# Session # 1 Introduction to Brax"
   ]
  },
  {
   "cell_type": "markdown",
   "metadata": {
    "id": "ssCOanHc8JH_"
   },
   "source": [
    "# Brax: a differentiable physics engine\n",
    "\n",
    "[Brax](https://github.com/google/brax) simulates physical systems made up of rigid bodies, joints, and actutators.  Brax provides the function:\n",
    "\n",
    "$$\n",
    "\\text{qp}_{t+1} = \\text{step}(\\text{system}, \\text{qp}_t, \\text{act})\n",
    "$$\n",
    "\n",
    "where:\n",
    "* $\\text{system}$ is the static description of the physical system: each body in the world, its weight and size, and so on\n",
    "* $\\text{qp}_t$ is the dynamic state of the system at time $t$: each body's position, rotation, velocity, and angular velocity\n",
    "* $\\text{act}$ is dynamic input to the system in the form of motor actuation\n",
    "\n",
    "Brax simulations are differentiable: the gradient $\\Delta \\text{step}$ can be used for efficient trajectory optimization.  But Brax is also well-suited to derivative-free optimization methods such as evolutionary strategy or reinforcement learning.\n",
    "\n",
    "Let's review how $\\text{system}$, $\\text{qp}_t$, and $\\text{act}$ are used:"
   ]
  },
  {
   "cell_type": "code",
   "execution_count": 2,
   "metadata": {
    "id": "rfVDoKbtQLij"
   },
   "outputs": [
    {
     "name": "stdout",
     "output_type": "stream",
     "text": [
      "Collecting git+https://github.com/manfreddiaz/brax.git@enhanced-viewer\n",
      "  Cloning https://github.com/manfreddiaz/brax.git (to revision enhanced-viewer) to /tmp/pip-req-build-6f7cjbzs\n",
      "  Running command git clone -q https://github.com/manfreddiaz/brax.git /tmp/pip-req-build-6f7cjbzs\n",
      "  Running command git checkout -b enhanced-viewer --track origin/enhanced-viewer\n",
      "  Switched to a new branch 'enhanced-viewer'\n",
      "  Branch 'enhanced-viewer' set up to track remote branch 'enhanced-viewer' from 'origin'.\n",
      "  Resolved https://github.com/manfreddiaz/brax.git to commit 412b7613c1aadeb718abfb8f8aafeb96aae049b5\n",
      "Requirement already satisfied: absl-py in /home/linuxpotter/.virtualenvs/jax/lib/python3.6/site-packages (from brax==0.0.6) (0.12.0)\n",
      "Requirement already satisfied: clu in /home/linuxpotter/.virtualenvs/jax/lib/python3.6/site-packages (from brax==0.0.6) (0.0.6)\n",
      "Requirement already satisfied: dataclasses in /home/linuxpotter/.virtualenvs/jax/lib/python3.6/site-packages (from brax==0.0.6) (0.8)\n",
      "Requirement already satisfied: flax in /home/linuxpotter/.virtualenvs/jax/lib/python3.6/site-packages (from brax==0.0.6) (0.3.4)\n",
      "Requirement already satisfied: gym in /home/linuxpotter/.virtualenvs/jax/lib/python3.6/site-packages (from brax==0.0.6) (0.19.0)\n",
      "Requirement already satisfied: grpcio in /home/linuxpotter/.virtualenvs/jax/lib/python3.6/site-packages (from brax==0.0.6) (1.40.0)\n",
      "Requirement already satisfied: jax<=0.2.21 in /home/linuxpotter/.virtualenvs/jax/lib/python3.6/site-packages (from brax==0.0.6) (0.2.17)\n",
      "Requirement already satisfied: jaxlib in /home/linuxpotter/.virtualenvs/jax/lib/python3.6/site-packages (from brax==0.0.6) (0.1.68)\n",
      "Requirement already satisfied: numpy in /home/linuxpotter/.virtualenvs/jax/lib/python3.6/site-packages (from brax==0.0.6) (1.19.5)\n",
      "Requirement already satisfied: optax in /home/linuxpotter/.virtualenvs/jax/lib/python3.6/site-packages (from brax==0.0.6) (0.0.9)\n",
      "Requirement already satisfied: Pillow in /home/linuxpotter/.virtualenvs/jax/lib/python3.6/site-packages (from brax==0.0.6) (8.3.2)\n",
      "Requirement already satisfied: pytinyrenderer in /home/linuxpotter/.virtualenvs/jax/lib/python3.6/site-packages (from brax==0.0.6) (0.0.11)\n",
      "Requirement already satisfied: tensorflow_probability[jax] in /home/linuxpotter/.virtualenvs/jax/lib/python3.6/site-packages (from brax==0.0.6) (0.14.0)\n",
      "Requirement already satisfied: opt-einsum in /home/linuxpotter/.virtualenvs/jax/lib/python3.6/site-packages (from jax<=0.2.21->brax==0.0.6) (3.3.0)\n",
      "Requirement already satisfied: six in /home/linuxpotter/.virtualenvs/jax/lib/python3.6/site-packages (from absl-py->brax==0.0.6) (1.15.0)\n",
      "Requirement already satisfied: tensorflow in /home/linuxpotter/.virtualenvs/jax/lib/python3.6/site-packages (from clu->brax==0.0.6) (2.6.0)\n",
      "Requirement already satisfied: tensorflow-datasets in /home/linuxpotter/.virtualenvs/jax/lib/python3.6/site-packages (from clu->brax==0.0.6) (4.4.0)\n",
      "Requirement already satisfied: ml-collections in /home/linuxpotter/.virtualenvs/jax/lib/python3.6/site-packages (from clu->brax==0.0.6) (0.1.0)\n",
      "Requirement already satisfied: packaging in /home/linuxpotter/.virtualenvs/jax/lib/python3.6/site-packages (from clu->brax==0.0.6) (21.0)\n",
      "Requirement already satisfied: matplotlib in /home/linuxpotter/.virtualenvs/jax/lib/python3.6/site-packages (from flax->brax==0.0.6) (3.3.4)\n",
      "Requirement already satisfied: msgpack in /home/linuxpotter/.virtualenvs/jax/lib/python3.6/site-packages (from flax->brax==0.0.6) (1.0.2)\n",
      "Requirement already satisfied: cloudpickle<1.7.0,>=1.2.0 in /home/linuxpotter/.virtualenvs/jax/lib/python3.6/site-packages (from gym->brax==0.0.6) (1.6.0)\n",
      "Requirement already satisfied: scipy in /home/linuxpotter/.virtualenvs/jax/lib/python3.6/site-packages (from jaxlib->brax==0.0.6) (1.5.4)\n",
      "Requirement already satisfied: flatbuffers<3.0,>=1.12 in /home/linuxpotter/.virtualenvs/jax/lib/python3.6/site-packages (from jaxlib->brax==0.0.6) (1.12)\n",
      "Requirement already satisfied: pyparsing!=2.0.4,!=2.1.2,!=2.1.6,>=2.0.3 in /home/linuxpotter/.virtualenvs/jax/lib/python3.6/site-packages (from matplotlib->flax->brax==0.0.6) (2.4.7)\n",
      "Requirement already satisfied: kiwisolver>=1.0.1 in /home/linuxpotter/.virtualenvs/jax/lib/python3.6/site-packages (from matplotlib->flax->brax==0.0.6) (1.3.1)\n",
      "Requirement already satisfied: cycler>=0.10 in /home/linuxpotter/.virtualenvs/jax/lib/python3.6/site-packages (from matplotlib->flax->brax==0.0.6) (0.10.0)\n",
      "Requirement already satisfied: python-dateutil>=2.1 in /home/linuxpotter/.virtualenvs/jax/lib/python3.6/site-packages (from matplotlib->flax->brax==0.0.6) (2.8.2)\n",
      "Requirement already satisfied: contextlib2 in /home/linuxpotter/.virtualenvs/jax/lib/python3.6/site-packages (from ml-collections->clu->brax==0.0.6) (21.6.0)\n",
      "Requirement already satisfied: PyYAML in /home/linuxpotter/.virtualenvs/jax/lib/python3.6/site-packages (from ml-collections->clu->brax==0.0.6) (5.4.1)\n",
      "Requirement already satisfied: chex>=0.0.4 in /home/linuxpotter/.virtualenvs/jax/lib/python3.6/site-packages (from optax->brax==0.0.6) (0.0.8)\n",
      "Requirement already satisfied: toolz>=0.9.0 in /home/linuxpotter/.virtualenvs/jax/lib/python3.6/site-packages (from chex>=0.0.4->optax->brax==0.0.6) (0.11.1)\n",
      "Requirement already satisfied: dm-tree>=0.1.5 in /home/linuxpotter/.virtualenvs/jax/lib/python3.6/site-packages (from chex>=0.0.4->optax->brax==0.0.6) (0.1.6)\n",
      "Requirement already satisfied: h5py~=3.1.0 in /home/linuxpotter/.virtualenvs/jax/lib/python3.6/site-packages (from tensorflow->clu->brax==0.0.6) (3.1.0)\n",
      "Requirement already satisfied: termcolor~=1.1.0 in /home/linuxpotter/.virtualenvs/jax/lib/python3.6/site-packages (from tensorflow->clu->brax==0.0.6) (1.1.0)\n",
      "Requirement already satisfied: keras~=2.6 in /home/linuxpotter/.virtualenvs/jax/lib/python3.6/site-packages (from tensorflow->clu->brax==0.0.6) (2.6.0)\n",
      "Requirement already satisfied: tensorflow-estimator~=2.6 in /home/linuxpotter/.virtualenvs/jax/lib/python3.6/site-packages (from tensorflow->clu->brax==0.0.6) (2.6.0)\n",
      "Requirement already satisfied: google-pasta~=0.2 in /home/linuxpotter/.virtualenvs/jax/lib/python3.6/site-packages (from tensorflow->clu->brax==0.0.6) (0.2.0)\n",
      "Requirement already satisfied: keras-preprocessing~=1.1.2 in /home/linuxpotter/.virtualenvs/jax/lib/python3.6/site-packages (from tensorflow->clu->brax==0.0.6) (1.1.2)\n",
      "Requirement already satisfied: typing-extensions~=3.7.4 in /home/linuxpotter/.virtualenvs/jax/lib/python3.6/site-packages (from tensorflow->clu->brax==0.0.6) (3.7.4.3)\n",
      "Requirement already satisfied: tensorboard~=2.6 in /home/linuxpotter/.virtualenvs/jax/lib/python3.6/site-packages (from tensorflow->clu->brax==0.0.6) (2.6.0)\n",
      "Requirement already satisfied: clang~=5.0 in /home/linuxpotter/.virtualenvs/jax/lib/python3.6/site-packages (from tensorflow->clu->brax==0.0.6) (5.0)\n",
      "Requirement already satisfied: gast==0.4.0 in /home/linuxpotter/.virtualenvs/jax/lib/python3.6/site-packages (from tensorflow->clu->brax==0.0.6) (0.4.0)\n",
      "Requirement already satisfied: protobuf>=3.9.2 in /home/linuxpotter/.virtualenvs/jax/lib/python3.6/site-packages (from tensorflow->clu->brax==0.0.6) (3.18.0)\n",
      "Requirement already satisfied: astunparse~=1.6.3 in /home/linuxpotter/.virtualenvs/jax/lib/python3.6/site-packages (from tensorflow->clu->brax==0.0.6) (1.6.3)\n",
      "Requirement already satisfied: wheel~=0.35 in /home/linuxpotter/.virtualenvs/jax/lib/python3.6/site-packages (from tensorflow->clu->brax==0.0.6) (0.37.0)\n",
      "Requirement already satisfied: wrapt~=1.12.1 in /home/linuxpotter/.virtualenvs/jax/lib/python3.6/site-packages (from tensorflow->clu->brax==0.0.6) (1.12.1)\n",
      "Requirement already satisfied: cached-property in /home/linuxpotter/.virtualenvs/jax/lib/python3.6/site-packages (from h5py~=3.1.0->tensorflow->clu->brax==0.0.6) (1.5.2)\n",
      "Requirement already satisfied: tensorboard-data-server<0.7.0,>=0.6.0 in /home/linuxpotter/.virtualenvs/jax/lib/python3.6/site-packages (from tensorboard~=2.6->tensorflow->clu->brax==0.0.6) (0.6.1)\n",
      "Requirement already satisfied: google-auth<2,>=1.6.3 in /home/linuxpotter/.virtualenvs/jax/lib/python3.6/site-packages (from tensorboard~=2.6->tensorflow->clu->brax==0.0.6) (1.35.0)\n",
      "Requirement already satisfied: werkzeug>=0.11.15 in /home/linuxpotter/.virtualenvs/jax/lib/python3.6/site-packages (from tensorboard~=2.6->tensorflow->clu->brax==0.0.6) (2.0.1)\n",
      "Requirement already satisfied: tensorboard-plugin-wit>=1.6.0 in /home/linuxpotter/.virtualenvs/jax/lib/python3.6/site-packages (from tensorboard~=2.6->tensorflow->clu->brax==0.0.6) (1.8.0)\n",
      "Requirement already satisfied: requests<3,>=2.21.0 in /home/linuxpotter/.virtualenvs/jax/lib/python3.6/site-packages (from tensorboard~=2.6->tensorflow->clu->brax==0.0.6) (2.26.0)\n",
      "Requirement already satisfied: markdown>=2.6.8 in /home/linuxpotter/.virtualenvs/jax/lib/python3.6/site-packages (from tensorboard~=2.6->tensorflow->clu->brax==0.0.6) (3.3.4)\n",
      "Requirement already satisfied: setuptools>=41.0.0 in /home/linuxpotter/.virtualenvs/jax/lib/python3.6/site-packages (from tensorboard~=2.6->tensorflow->clu->brax==0.0.6) (58.0.0)\n",
      "Requirement already satisfied: google-auth-oauthlib<0.5,>=0.4.1 in /home/linuxpotter/.virtualenvs/jax/lib/python3.6/site-packages (from tensorboard~=2.6->tensorflow->clu->brax==0.0.6) (0.4.6)\n",
      "Requirement already satisfied: pyasn1-modules>=0.2.1 in /home/linuxpotter/.virtualenvs/jax/lib/python3.6/site-packages (from google-auth<2,>=1.6.3->tensorboard~=2.6->tensorflow->clu->brax==0.0.6) (0.2.8)\n",
      "Requirement already satisfied: cachetools<5.0,>=2.0.0 in /home/linuxpotter/.virtualenvs/jax/lib/python3.6/site-packages (from google-auth<2,>=1.6.3->tensorboard~=2.6->tensorflow->clu->brax==0.0.6) (4.2.2)\n",
      "Requirement already satisfied: rsa<5,>=3.1.4 in /home/linuxpotter/.virtualenvs/jax/lib/python3.6/site-packages (from google-auth<2,>=1.6.3->tensorboard~=2.6->tensorflow->clu->brax==0.0.6) (4.7.2)\n"
     ]
    },
    {
     "name": "stdout",
     "output_type": "stream",
     "text": [
      "Requirement already satisfied: requests-oauthlib>=0.7.0 in /home/linuxpotter/.virtualenvs/jax/lib/python3.6/site-packages (from google-auth-oauthlib<0.5,>=0.4.1->tensorboard~=2.6->tensorflow->clu->brax==0.0.6) (1.3.0)\n",
      "Requirement already satisfied: importlib-metadata in /home/linuxpotter/.virtualenvs/jax/lib/python3.6/site-packages (from markdown>=2.6.8->tensorboard~=2.6->tensorflow->clu->brax==0.0.6) (4.8.1)\n",
      "Requirement already satisfied: pyasn1<0.5.0,>=0.4.6 in /home/linuxpotter/.virtualenvs/jax/lib/python3.6/site-packages (from pyasn1-modules>=0.2.1->google-auth<2,>=1.6.3->tensorboard~=2.6->tensorflow->clu->brax==0.0.6) (0.4.8)\n",
      "Requirement already satisfied: urllib3<1.27,>=1.21.1 in /home/linuxpotter/.virtualenvs/jax/lib/python3.6/site-packages (from requests<3,>=2.21.0->tensorboard~=2.6->tensorflow->clu->brax==0.0.6) (1.26.6)\n",
      "Requirement already satisfied: certifi>=2017.4.17 in /home/linuxpotter/.virtualenvs/jax/lib/python3.6/site-packages (from requests<3,>=2.21.0->tensorboard~=2.6->tensorflow->clu->brax==0.0.6) (2021.5.30)\n",
      "Requirement already satisfied: charset-normalizer~=2.0.0 in /home/linuxpotter/.virtualenvs/jax/lib/python3.6/site-packages (from requests<3,>=2.21.0->tensorboard~=2.6->tensorflow->clu->brax==0.0.6) (2.0.6)\n",
      "Requirement already satisfied: idna<4,>=2.5 in /home/linuxpotter/.virtualenvs/jax/lib/python3.6/site-packages (from requests<3,>=2.21.0->tensorboard~=2.6->tensorflow->clu->brax==0.0.6) (3.2)\n",
      "Requirement already satisfied: oauthlib>=3.0.0 in /home/linuxpotter/.virtualenvs/jax/lib/python3.6/site-packages (from requests-oauthlib>=0.7.0->google-auth-oauthlib<0.5,>=0.4.1->tensorboard~=2.6->tensorflow->clu->brax==0.0.6) (3.1.1)\n",
      "Requirement already satisfied: zipp>=0.5 in /home/linuxpotter/.virtualenvs/jax/lib/python3.6/site-packages (from importlib-metadata->markdown>=2.6.8->tensorboard~=2.6->tensorflow->clu->brax==0.0.6) (3.5.0)\n",
      "Requirement already satisfied: tensorflow-metadata in /home/linuxpotter/.virtualenvs/jax/lib/python3.6/site-packages (from tensorflow-datasets->clu->brax==0.0.6) (1.2.0)\n",
      "Requirement already satisfied: tqdm in /home/linuxpotter/.virtualenvs/jax/lib/python3.6/site-packages (from tensorflow-datasets->clu->brax==0.0.6) (4.62.3)\n",
      "Requirement already satisfied: dill in /home/linuxpotter/.virtualenvs/jax/lib/python3.6/site-packages (from tensorflow-datasets->clu->brax==0.0.6) (0.3.4)\n",
      "Requirement already satisfied: future in /home/linuxpotter/.virtualenvs/jax/lib/python3.6/site-packages (from tensorflow-datasets->clu->brax==0.0.6) (0.18.2)\n",
      "Requirement already satisfied: promise in /home/linuxpotter/.virtualenvs/jax/lib/python3.6/site-packages (from tensorflow-datasets->clu->brax==0.0.6) (2.3)\n",
      "Requirement already satisfied: attrs>=18.1.0 in /home/linuxpotter/.virtualenvs/jax/lib/python3.6/site-packages (from tensorflow-datasets->clu->brax==0.0.6) (21.2.0)\n",
      "Requirement already satisfied: importlib-resources in /home/linuxpotter/.virtualenvs/jax/lib/python3.6/site-packages (from tensorflow-datasets->clu->brax==0.0.6) (5.2.2)\n",
      "Requirement already satisfied: googleapis-common-protos<2,>=1.52.0 in /home/linuxpotter/.virtualenvs/jax/lib/python3.6/site-packages (from tensorflow-metadata->tensorflow-datasets->clu->brax==0.0.6) (1.53.0)\n",
      "Requirement already satisfied: decorator in /home/linuxpotter/.virtualenvs/jax/lib/python3.6/site-packages (from tensorflow_probability[jax]->brax==0.0.6) (5.1.0)\n",
      "Building wheels for collected packages: brax\n",
      "  Building wheel for brax (setup.py) ... \u001b[?25ldone\n",
      "\u001b[?25h  Created wheel for brax: filename=brax-0.0.6-py3-none-any.whl size=141267 sha256=ee8ed7a9a9e7477e74ac160756a435d9c6f4b7c96495792ab847fc84943ca044\n",
      "  Stored in directory: /tmp/pip-ephem-wheel-cache-w_iit_mu/wheels/8d/9b/7d/1e1403a4aeb47bbd6717b63bab0efceda8ccd7be2c28f313ab\n",
      "Successfully built brax\n",
      "Installing collected packages: brax\n",
      "  Attempting uninstall: brax\n",
      "    Found existing installation: brax 0.0.6\n",
      "    Uninstalling brax-0.0.6:\n",
      "      Successfully uninstalled brax-0.0.6\n",
      "Successfully installed brax-0.0.6\n",
      "\u001b[33mWARNING: You are using pip version 21.2.4; however, version 21.3 is available.\n",
      "You should consider upgrading via the '/home/linuxpotter/.virtualenvs/jax/bin/python -m pip install --upgrade pip' command.\u001b[0m\n"
     ]
    }
   ],
   "source": [
    "#@title Colab setup and imports\n",
    "\n",
    "!pip install git+https://github.com/manfreddiaz/brax.git@enhanced-viewer\n",
    "\n",
    "import jax\n",
    "import jax.numpy as jnp\n",
    "from IPython.display import HTML, clear_output\n",
    "\n",
    "import brax\n",
    "from brax.io import html # Brax's HTML viewer\n"
   ]
  },
  {
   "cell_type": "markdown",
   "metadata": {
    "id": "EJq9eWOi9XjN"
   },
   "source": [
    "## Brax Config\n",
    "\n",
    "Here's a brax config that defines a bouncy ball:"
   ]
  },
  {
   "cell_type": "code",
   "execution_count": 6,
   "metadata": {
    "id": "7GhvlPFTCbuq"
   },
   "outputs": [],
   "source": [
    "#@markdown  # A Bouncy Ball\n",
    "ball_radius = 0.11 #@param { type:\"slider\", min: 0.01, max: 0.95, step:0.05 }\n",
    "ball_length = 1 #@param { type:\"slider\", min: 1.0, max: 3.0, step:0.25 }\n",
    "\n",
    "scene = brax.Config(\n",
    "  dt=0.05, \n",
    "  substeps=100\n",
    ")\n",
    "scene.gravity.z = -9.8 # gravity is -9.8 m/s^2 in z dimension\n",
    "\n",
    "# ground is a frozen (immovable) infinite plane\n",
    "ground = scene.bodies.add(\n",
    "    name='ground'\n",
    ")\n",
    "ground.frozen.all = True\n",
    "# till here, the body doesn't have a shape\n",
    "# so we add a collider\n",
    "# there are multiple types of colliders\n",
    "# here we use an specific one for the plane, called \"plane\" :)\n",
    "plane = ground.colliders.add().plane\n",
    "plane.SetInParent()  # for setting an empty oneof\n",
    "\n",
    "# ball weighs 1kg, has equal rotational inertia along all axes, is 1m long, and\n",
    "# has an initial rotation of identity (w=1,x=0,y=0,z=0) quaternion\n",
    "ball = scene.bodies.add(\n",
    "    name='ball', \n",
    "    mass=1.0\n",
    ")\n",
    "ball.inertia.x, ball.inertia.y, ball.inertia.z = 1.0, 1.0, 1.0\n",
    "\n",
    "# The body doesn't have a (visible) shape so we add a collider\n",
    "# There are multiple types of colliders, here we will use a capsule (a cylinder)\n",
    "ball_capsule = ball.colliders.add().capsule\n",
    "ball_capsule.radius = ball_radius \n",
    "ball_capsule.length = ball_length\n"
   ]
  },
  {
   "cell_type": "markdown",
   "metadata": {
    "id": "3TDznz8g0CM2"
   },
   "source": [
    "## Brax State\n",
    "$\\text{QP}$, brax's dynamic state, is a structure with the following fields:\n"
   ]
  },
  {
   "cell_type": "code",
   "execution_count": 7,
   "metadata": {
    "colab": {
     "base_uri": "https://localhost:8080/"
    },
    "id": "fJwjG9mM0L7m",
    "outputId": "f165eba3-c42e-4c73-9638-730ee1a83d03"
   },
   "outputs": [],
   "source": [
    "qp = brax.QP(\n",
    "    # position of each body in 3d (z is up, right-hand coordinates)\n",
    "    pos = jnp.array([[0., 0., 0.],       # ground\n",
    "                    [0., 0., 3.]]),      # ball is 3m up in the air\n",
    "    # velocity of each body in 3d\n",
    "    vel = jnp.array([[0., 0., 0.],       # ground\n",
    "                    [0., 0., 0.]]),      # ball\n",
    "    # rotation about center of body, as a quaternion (w, x, y, z)\n",
    "    rot = jnp.array([[1., 0., 0., 0.],   # ground\n",
    "                    [1, 0., 0, 0]]),  # ball\n",
    "    # angular velocity about center of body in 3d\n",
    "    ang = jnp.array([[0., 0., 0.],       # ground\n",
    "                    [0., 0., 0.]])       # ball\n",
    ")"
   ]
  },
  {
   "cell_type": "markdown",
   "metadata": {
    "id": "SXSCEWyh0P0Z"
   },
   "source": [
    "# Brax HTML Viewer\n",
    "\n",
    "For visualization, we can use Brax's internal HTML renderer based of three.js library. This is really great as it allows super fast feedback on the scene we are creating."
   ]
  },
  {
   "cell_type": "code",
   "execution_count": 8,
   "metadata": {
    "colab": {
     "base_uri": "https://localhost:8080/",
     "height": 480
    },
    "id": "qduEeYvL0U3F",
    "outputId": "8fff4b65-e1ae-4d5a-ac7a-6f3268bb98c7",
    "scrolled": true
   },
   "outputs": [
    {
     "data": {
      "text/html": [
       "\n",
       "<html>\n",
       "\n",
       "  <head>\n",
       "    <title>brax visualizer</title>\n",
       "    <style>\n",
       "      body {\n",
       "        margin: 0;\n",
       "        padding: 0;\n",
       "      }\n",
       "\n",
       "      #brax-viewer {\n",
       "        margin: 0;\n",
       "        padding: 0;\n",
       "        height: 480px;\n",
       "      }\n",
       "    </style>\n",
       "  </head>\n",
       "\n",
       "  <body>\n",
       "    <script type=\"application/javascript\">\n",
       "    var system = {\"config\": {\"bodies\": [{\"name\": \"ground\", \"colliders\": [{\"plane\": {}}], \"inertia\": {\"x\": 1.0, \"y\": 1.0, \"z\": 1.0}, \"frozen\": {\"position\": {\"x\": 1.0, \"y\": 1.0, \"z\": 1.0}, \"rotation\": {\"x\": 1.0, \"y\": 1.0, \"z\": 1.0}, \"all\": true}, \"mass\": 0.0}, {\"name\": \"ball\", \"colliders\": [{\"capsule\": {\"radius\": 0.11, \"length\": 1.0, \"end\": 0}}], \"inertia\": {\"x\": 1.0, \"y\": 1.0, \"z\": 1.0}, \"mass\": 1.0, \"frozen\": {\"position\": {\"x\": 0.0, \"y\": 0.0, \"z\": 0.0}, \"rotation\": {\"x\": 0.0, \"y\": 0.0, \"z\": 0.0}, \"all\": false}}], \"gravity\": {\"z\": -9.8, \"x\": 0.0, \"y\": 0.0}, \"dt\": 0.05, \"substeps\": 100, \"frozen\": {\"all\": false}, \"joints\": [], \"actuators\": [], \"elasticity\": 0.0, \"friction\": 0.0, \"velocityDamping\": 0.0, \"angularDamping\": 0.0, \"baumgarteErp\": 0.0, \"collideInclude\": [], \"defaults\": [], \"colliderCutoff\": 0}, \"pos\": [[[0.0, 0.0, 0.0], [0.0, 0.0, 3.0]]], \"rot\": [[[1.0, 0.0, 0.0, 0.0], [1.0, 0.0, 0.0, 0.0]]]};\n",
       "    </script>\n",
       "\n",
       "    <div id=\"brax-viewer\"></div>\n",
       "\n",
       "    <script type=\"module\">\n",
       "      import {Viewer} from 'https://cdn.jsdelivr.net/gh/google/brax@v0.0.6/js/viewer.js';\n",
       "      const domElement = document.getElementById('brax-viewer');\n",
       "      var viewer = new Viewer(domElement, system);\n",
       "    </script>\n",
       "  </body>\n",
       "</html>\n"
      ],
      "text/plain": [
       "<IPython.core.display.HTML object>"
      ]
     },
     "execution_count": 8,
     "metadata": {},
     "output_type": "execute_result"
    }
   ],
   "source": [
    "sys = brax.System(scene)\n",
    "HTML(html.render(sys, [qp])) "
   ]
  },
  {
   "cell_type": "markdown",
   "metadata": {
    "id": "q7AtKjROGTPE"
   },
   "source": [
    "## Brax Step Function\n",
    "\n",
    "Let's observe $\\text{step}(\\text{config}, \\text{qp}_t)$ with a few different variants of $\\text{config}$ and $\\text{qp}$:"
   ]
  },
  {
   "cell_type": "code",
   "execution_count": null,
   "metadata": {
    "id": "_IRms_QHGM54"
   },
   "outputs": [],
   "source": [
    "#@title Simulating the bouncy ball config { run: \"auto\"}\n",
    "# let's add some elasticity to the scene\n",
    "scene.elasticity = 0.85 #@param { type:\"slider\", min: 0, max: 0.95, step:0.05 }\n",
    "# and of course, we need to re-create the scene.\n",
    "sys = brax.System(scene) \n",
    "\n",
    "\n",
    "ball_velocity = 1 #@param { type:\"slider\", min:-5, max:5, step: 0.5 }\n",
    "\n",
    "# provide an initial velocity to the ball\n",
    "vel = jax.ops.index_update(qp.vel, jax.ops.index[1, 0], ball_velocity)\n",
    "qp = qp.replace(vel=vel)\n",
    "\n",
    "states = [] \n",
    "for i in range(100):\n",
    "  qp, _ = sys.step(qp, [])\n",
    "  states.append(qp)\n",
    "\n",
    "HTML(html.render(sys, states))"
   ]
  },
  {
   "cell_type": "markdown",
   "metadata": {
    "id": "WkjHMB_KbUEj"
   },
   "source": [
    "# Joints\n",
    "\n",
    "Joints constrain the motion of bodies so that they move in tandem:"
   ]
  },
  {
   "cell_type": "code",
   "execution_count": null,
   "metadata": {
    "id": "gTJ82-0pc3ct"
   },
   "outputs": [],
   "source": [
    "#@title A pendulum config for Brax\n",
    "scene = brax.Config(\n",
    "  dt=0.01, \n",
    "  substeps=100\n",
    ")\n",
    "scene.gravity.z = -9.8 # gravity is -9.8 m/s^2 in z dimension\n",
    "\n",
    "ball_radius = 0.2 #@param { type:\"slider\", min: 0.01, max: 0.95, step:0.05 }\n",
    "ball_length = 0.4 #@param { type:\"slider\", min: 0.01, max: 3.0, step:0.25 }\n",
    "\n",
    "# image of the system we aim to design\n",
    "# start with a frozen anchor at the root of the pendulum\n",
    "anchor = scene.bodies.add(\n",
    "    name='anchor', \n",
    "    mass=1.0\n",
    ")\n",
    "anchor.frozen.all = True\n",
    "anchor.inertia.x, anchor.inertia.y, anchor.inertia.z = 1, 1, 1\n",
    "# anchor_cap = anchor.colliders.add().capsule\n",
    "# anchor_cap.radius = 0.1\n",
    "# anchor_cap.length = 0.2\n",
    "\n",
    "# now add a middle and bottom ball to the pendulum\n",
    "middle = scene.bodies.add(\n",
    "    name='middle',\n",
    "    mass=1.0\n",
    ")\n",
    "middle.inertia.x, middle.inertia.y, middle.inertia.z = 1.0, 1.0, 1.0\n",
    "middle_cap = middle.colliders.add().capsule\n",
    "middle_cap.radius = 0.1\n",
    "middle_cap.length = 1.0\n",
    "\n",
    "bottom = scene.bodies.add(\n",
    "    name='bottom',\n",
    "    mass=1.0\n",
    ")\n",
    "bottom.inertia.x, bottom.inertia.y, bottom.inertia.z = 1.0, 1.0, 1.0\n",
    "bottom_cap = bottom.colliders.add().capsule\n",
    "bottom_cap.radius = 0.1\n",
    "bottom_cap.length = 1.0\n",
    "\n",
    "joint_anchor_middle = scene.joints.add(\n",
    "    name='joint_anchor_middle', \n",
    "    parent='anchor', \n",
    "    child='middle', \n",
    "    stiffness=10000, \n",
    "    angular_damping=20\n",
    ")\n",
    "joint_anchor_middle.angle_limit.add(\n",
    "    min = -180, \n",
    "    max = 180\n",
    ")\n",
    "joint_anchor_middle.child_offset.z = -0.5\n",
    "joint_anchor_middle.rotation.z = 90\n",
    "\n",
    "# connect middle to bottom\n",
    "joint_middle_bottom = scene.joints.add(\n",
    "    name='joint_middle_bottom', \n",
    "    parent='middle', \n",
    "    child='bottom', \n",
    "    stiffness=10000, \n",
    "    angular_damping=20\n",
    ")\n",
    "joint_middle_bottom.angle_limit.add(\n",
    "    min = -10, \n",
    "    max = 10\n",
    ")\n",
    "joint_middle_bottom.child_offset.z = -0.8\n",
    "joint_middle_bottom.rotation.y = 90\n",
    "\n",
    "\n",
    "# ignore collisions\n",
    "scene.collide_include.add()\n",
    "\n",
    "### Add ground plane\n",
    "# ground is a frozen (immovable) infinite plane\n",
    "ground = scene.bodies.add(\n",
    "    name='ground'\n",
    ")\n",
    "ground.frozen.all = True\n",
    "plane = ground.colliders.add().plane\n",
    "plane.SetInParent()  # for setting an empty oneof"
   ]
  },
  {
   "cell_type": "markdown",
   "metadata": {
    "id": "rVaAGMiv02mt"
   },
   "source": [
    "Here is our system at rest:"
   ]
  },
  {
   "cell_type": "code",
   "execution_count": null,
   "metadata": {
    "id": "k0HRKdhP07HQ"
   },
   "outputs": [],
   "source": [
    "# rather than building our own qp like last time, we ask brax.System to\n",
    "# generate a default one for us, which is handy\n",
    "sys = brax.System(scene)\n",
    "qp = sys.default_qp()\n",
    "\n",
    "HTML(html.render(sys, [qp]))\n"
   ]
  },
  {
   "cell_type": "markdown",
   "metadata": {
    "id": "B_T1eezK3Lui"
   },
   "source": [
    "Let's observe $\\text{step}(\\text{config}, \\text{qp}_t)$ by smacking the bottom ball with an initial impulse, simulating a pendulum swing."
   ]
  },
  {
   "cell_type": "code",
   "execution_count": null,
   "metadata": {
    "id": "Rfzr1eD44AUx"
   },
   "outputs": [],
   "source": [
    "#@title Simulating the pendulum config { run: \"auto\"}\n",
    "ball_impulse = 15 #@param { type:\"slider\", min:-15, max:15, step: 0.5 }\n",
    "\n",
    "# provide an initial velocity to the ball\n",
    "vel = jax.ops.index_update(qp.vel, jax.ops.index[1, 0], ball_impulse)\n",
    "qp = qp.replace(vel=vel)\n",
    "\n",
    "states = [] \n",
    "for i in range(50):\n",
    "  qp, _ = sys.step(qp, [])\n",
    "  states.append(qp)\n",
    "\n",
    "HTML(html.render(sys, states))"
   ]
  },
  {
   "cell_type": "markdown",
   "metadata": {
    "id": "6qirgnZNdfjT"
   },
   "source": [
    "# Actuators\n",
    "\n",
    "Actuators provide dynamic input to the system during every physics step.  They provide control parameters for users to manipulate the system interactively via the $\\text{act}$ parameter."
   ]
  },
  {
   "cell_type": "code",
   "execution_count": null,
   "metadata": {
    "id": "yuiirAveePtm"
   },
   "outputs": [],
   "source": [
    "#@title A single actuator on the pendulum\n",
    "actuated_pendulum = brax.Config()\n",
    "actuated_pendulum.CopyFrom(scene)\n",
    "\n",
    "# actuating the joint connecting the anchor and middle\n",
    "angle = actuated_pendulum.actuators.add(\n",
    "    name='actuator', \n",
    "    joint='joint_anchor_middle', \n",
    "    strength=100\n",
    ").angle\n",
    "angle.SetInParent()  # for setting an empty oneof"
   ]
  },
  {
   "cell_type": "markdown",
   "metadata": {
    "id": "GCdipDvggtQu"
   },
   "source": [
    "Let's observe $\\text{step}(\\text{config}, \\text{qp}_t, \\text{act})$ by raising the middle ball to a desired target angle:"
   ]
  },
  {
   "cell_type": "code",
   "execution_count": null,
   "metadata": {
    "id": "SCs5jPVThWQx"
   },
   "outputs": [],
   "source": [
    "#@title Simulating the actuated pendulum config { run: \"auto\"}\n",
    "target_angle = -31 #@param { type:\"slider\", min:-90, max:90, step: 1 }\n",
    "\n",
    "sys = brax.System(actuated_pendulum)\n",
    "qp = sys.default_qp()\n",
    "act = jnp.array([target_angle])\n",
    "\n",
    "states = [] \n",
    "for i in range(100):\n",
    "  qp, _ = sys.step(qp, act)\n",
    "  states.append(qp)\n",
    "\n",
    "HTML(html.render(sys, states))"
   ]
  }
 ],
 "metadata": {
  "accelerator": "TPU",
  "colab": {
   "collapsed_sections": [],
   "name": "Component.ipynb",
   "provenance": []
  },
  "interpreter": {
   "hash": "b5a8cda92cf0200f840de85acb8a0b5b7c9fb211743a00fd2e28a5508ec454cf"
  },
  "kernelspec": {
   "display_name": "Python 3",
   "language": "python",
   "name": "python3"
  },
  "language_info": {
   "codemirror_mode": {
    "name": "ipython",
    "version": 3
   },
   "file_extension": ".py",
   "mimetype": "text/x-python",
   "name": "python",
   "nbconvert_exporter": "python",
   "pygments_lexer": "ipython3",
   "version": "3.6.9"
  }
 },
 "nbformat": 4,
 "nbformat_minor": 1
}
